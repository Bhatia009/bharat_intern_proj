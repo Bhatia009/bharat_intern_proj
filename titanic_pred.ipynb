{
  "cells": [
    {
      "cell_type": "markdown",
      "metadata": {
        "id": "MXdL_dqm0ZQJ"
      },
      "source": [
        "import the necessary libs"
      ]
    },
    {
      "cell_type": "code",
      "execution_count": null,
      "metadata": {
        "id": "s-ka0Q9p0RAO"
      },
      "outputs": [],
      "source": [
        "import numpy as np\n",
        "import pandas as pd\n",
        "import matplotlib.pyplot as plt\n",
        "import seaborn as sns\n",
        "from sklearn.model_selection import train_test_split\n",
        "from sklearn.linear_model import LogisticRegression\n",
        "from sklearn.tree import DecisionTreeClassifier\n",
        "from sklearn.metrics import accuracy_score"
      ]
    },
    {
      "cell_type": "markdown",
      "metadata": {
        "id": "6o4h2Cpc0_eJ"
      },
      "source": [
        "Data Collection/loading and processing."
      ]
    },
    {
      "cell_type": "code",
      "execution_count": null,
      "metadata": {
        "id": "rGy2JpWH0-Na"
      },
      "outputs": [],
      "source": [
        "titanic_data = pd.read_csv('/content/train.csv')"
      ]
    },
    {
      "cell_type": "code",
      "execution_count": null,
      "metadata": {
        "colab": {
          "base_uri": "https://localhost:8080/",
          "height": 206
        },
        "id": "o3wJGANz1W12",
        "outputId": "1f02e79d-fedc-43c0-a08d-ea95001e77c9"
      },
      "outputs": [
        {
          "output_type": "execute_result",
          "data": {
            "text/plain": [
              "<pandas.io.formats.style.Styler at 0x78744d20ca00>"
            ],
            "text/html": [
              "<style type=\"text/css\">\n",
              "#T_02210_row0_col0, #T_02210_row0_col1, #T_02210_row0_col2, #T_02210_row0_col3, #T_02210_row0_col4, #T_02210_row0_col5, #T_02210_row0_col6, #T_02210_row0_col7, #T_02210_row0_col8, #T_02210_row0_col9, #T_02210_row0_col10, #T_02210_row0_col11, #T_02210_row1_col0, #T_02210_row1_col1, #T_02210_row1_col2, #T_02210_row1_col3, #T_02210_row1_col4, #T_02210_row1_col5, #T_02210_row1_col6, #T_02210_row1_col7, #T_02210_row1_col8, #T_02210_row1_col9, #T_02210_row1_col10, #T_02210_row1_col11, #T_02210_row2_col0, #T_02210_row2_col1, #T_02210_row2_col2, #T_02210_row2_col3, #T_02210_row2_col4, #T_02210_row2_col5, #T_02210_row2_col6, #T_02210_row2_col7, #T_02210_row2_col8, #T_02210_row2_col9, #T_02210_row2_col10, #T_02210_row2_col11, #T_02210_row3_col0, #T_02210_row3_col1, #T_02210_row3_col2, #T_02210_row3_col3, #T_02210_row3_col4, #T_02210_row3_col5, #T_02210_row3_col6, #T_02210_row3_col7, #T_02210_row3_col8, #T_02210_row3_col9, #T_02210_row3_col10, #T_02210_row3_col11, #T_02210_row4_col0, #T_02210_row4_col1, #T_02210_row4_col2, #T_02210_row4_col3, #T_02210_row4_col4, #T_02210_row4_col5, #T_02210_row4_col6, #T_02210_row4_col7, #T_02210_row4_col8, #T_02210_row4_col9, #T_02210_row4_col10, #T_02210_row4_col11 {\n",
              "  background-color: cyan;\n",
              "  color: Black;\n",
              "  border-color: darkblack;\n",
              "}\n",
              "</style>\n",
              "<table id=\"T_02210\" class=\"dataframe\">\n",
              "  <thead>\n",
              "    <tr>\n",
              "      <th class=\"blank level0\" >&nbsp;</th>\n",
              "      <th id=\"T_02210_level0_col0\" class=\"col_heading level0 col0\" >PassengerId</th>\n",
              "      <th id=\"T_02210_level0_col1\" class=\"col_heading level0 col1\" >Survived</th>\n",
              "      <th id=\"T_02210_level0_col2\" class=\"col_heading level0 col2\" >Pclass</th>\n",
              "      <th id=\"T_02210_level0_col3\" class=\"col_heading level0 col3\" >Name</th>\n",
              "      <th id=\"T_02210_level0_col4\" class=\"col_heading level0 col4\" >Sex</th>\n",
              "      <th id=\"T_02210_level0_col5\" class=\"col_heading level0 col5\" >Age</th>\n",
              "      <th id=\"T_02210_level0_col6\" class=\"col_heading level0 col6\" >SibSp</th>\n",
              "      <th id=\"T_02210_level0_col7\" class=\"col_heading level0 col7\" >Parch</th>\n",
              "      <th id=\"T_02210_level0_col8\" class=\"col_heading level0 col8\" >Ticket</th>\n",
              "      <th id=\"T_02210_level0_col9\" class=\"col_heading level0 col9\" >Fare</th>\n",
              "      <th id=\"T_02210_level0_col10\" class=\"col_heading level0 col10\" >Cabin</th>\n",
              "      <th id=\"T_02210_level0_col11\" class=\"col_heading level0 col11\" >Embarked</th>\n",
              "    </tr>\n",
              "  </thead>\n",
              "  <tbody>\n",
              "    <tr>\n",
              "      <th id=\"T_02210_level0_row0\" class=\"row_heading level0 row0\" >0</th>\n",
              "      <td id=\"T_02210_row0_col0\" class=\"data row0 col0\" >1</td>\n",
              "      <td id=\"T_02210_row0_col1\" class=\"data row0 col1\" >0</td>\n",
              "      <td id=\"T_02210_row0_col2\" class=\"data row0 col2\" >3</td>\n",
              "      <td id=\"T_02210_row0_col3\" class=\"data row0 col3\" >Braund, Mr. Owen Harris</td>\n",
              "      <td id=\"T_02210_row0_col4\" class=\"data row0 col4\" >male</td>\n",
              "      <td id=\"T_02210_row0_col5\" class=\"data row0 col5\" >22.000000</td>\n",
              "      <td id=\"T_02210_row0_col6\" class=\"data row0 col6\" >1</td>\n",
              "      <td id=\"T_02210_row0_col7\" class=\"data row0 col7\" >0</td>\n",
              "      <td id=\"T_02210_row0_col8\" class=\"data row0 col8\" >A/5 21171</td>\n",
              "      <td id=\"T_02210_row0_col9\" class=\"data row0 col9\" >7.250000</td>\n",
              "      <td id=\"T_02210_row0_col10\" class=\"data row0 col10\" >nan</td>\n",
              "      <td id=\"T_02210_row0_col11\" class=\"data row0 col11\" >S</td>\n",
              "    </tr>\n",
              "    <tr>\n",
              "      <th id=\"T_02210_level0_row1\" class=\"row_heading level0 row1\" >1</th>\n",
              "      <td id=\"T_02210_row1_col0\" class=\"data row1 col0\" >2</td>\n",
              "      <td id=\"T_02210_row1_col1\" class=\"data row1 col1\" >1</td>\n",
              "      <td id=\"T_02210_row1_col2\" class=\"data row1 col2\" >1</td>\n",
              "      <td id=\"T_02210_row1_col3\" class=\"data row1 col3\" >Cumings, Mrs. John Bradley (Florence Briggs Thayer)</td>\n",
              "      <td id=\"T_02210_row1_col4\" class=\"data row1 col4\" >female</td>\n",
              "      <td id=\"T_02210_row1_col5\" class=\"data row1 col5\" >38.000000</td>\n",
              "      <td id=\"T_02210_row1_col6\" class=\"data row1 col6\" >1</td>\n",
              "      <td id=\"T_02210_row1_col7\" class=\"data row1 col7\" >0</td>\n",
              "      <td id=\"T_02210_row1_col8\" class=\"data row1 col8\" >PC 17599</td>\n",
              "      <td id=\"T_02210_row1_col9\" class=\"data row1 col9\" >71.283300</td>\n",
              "      <td id=\"T_02210_row1_col10\" class=\"data row1 col10\" >C85</td>\n",
              "      <td id=\"T_02210_row1_col11\" class=\"data row1 col11\" >C</td>\n",
              "    </tr>\n",
              "    <tr>\n",
              "      <th id=\"T_02210_level0_row2\" class=\"row_heading level0 row2\" >2</th>\n",
              "      <td id=\"T_02210_row2_col0\" class=\"data row2 col0\" >3</td>\n",
              "      <td id=\"T_02210_row2_col1\" class=\"data row2 col1\" >1</td>\n",
              "      <td id=\"T_02210_row2_col2\" class=\"data row2 col2\" >3</td>\n",
              "      <td id=\"T_02210_row2_col3\" class=\"data row2 col3\" >Heikkinen, Miss. Laina</td>\n",
              "      <td id=\"T_02210_row2_col4\" class=\"data row2 col4\" >female</td>\n",
              "      <td id=\"T_02210_row2_col5\" class=\"data row2 col5\" >26.000000</td>\n",
              "      <td id=\"T_02210_row2_col6\" class=\"data row2 col6\" >0</td>\n",
              "      <td id=\"T_02210_row2_col7\" class=\"data row2 col7\" >0</td>\n",
              "      <td id=\"T_02210_row2_col8\" class=\"data row2 col8\" >STON/O2. 3101282</td>\n",
              "      <td id=\"T_02210_row2_col9\" class=\"data row2 col9\" >7.925000</td>\n",
              "      <td id=\"T_02210_row2_col10\" class=\"data row2 col10\" >nan</td>\n",
              "      <td id=\"T_02210_row2_col11\" class=\"data row2 col11\" >S</td>\n",
              "    </tr>\n",
              "    <tr>\n",
              "      <th id=\"T_02210_level0_row3\" class=\"row_heading level0 row3\" >3</th>\n",
              "      <td id=\"T_02210_row3_col0\" class=\"data row3 col0\" >4</td>\n",
              "      <td id=\"T_02210_row3_col1\" class=\"data row3 col1\" >1</td>\n",
              "      <td id=\"T_02210_row3_col2\" class=\"data row3 col2\" >1</td>\n",
              "      <td id=\"T_02210_row3_col3\" class=\"data row3 col3\" >Futrelle, Mrs. Jacques Heath (Lily May Peel)</td>\n",
              "      <td id=\"T_02210_row3_col4\" class=\"data row3 col4\" >female</td>\n",
              "      <td id=\"T_02210_row3_col5\" class=\"data row3 col5\" >35.000000</td>\n",
              "      <td id=\"T_02210_row3_col6\" class=\"data row3 col6\" >1</td>\n",
              "      <td id=\"T_02210_row3_col7\" class=\"data row3 col7\" >0</td>\n",
              "      <td id=\"T_02210_row3_col8\" class=\"data row3 col8\" >113803</td>\n",
              "      <td id=\"T_02210_row3_col9\" class=\"data row3 col9\" >53.100000</td>\n",
              "      <td id=\"T_02210_row3_col10\" class=\"data row3 col10\" >C123</td>\n",
              "      <td id=\"T_02210_row3_col11\" class=\"data row3 col11\" >S</td>\n",
              "    </tr>\n",
              "    <tr>\n",
              "      <th id=\"T_02210_level0_row4\" class=\"row_heading level0 row4\" >4</th>\n",
              "      <td id=\"T_02210_row4_col0\" class=\"data row4 col0\" >5</td>\n",
              "      <td id=\"T_02210_row4_col1\" class=\"data row4 col1\" >0</td>\n",
              "      <td id=\"T_02210_row4_col2\" class=\"data row4 col2\" >3</td>\n",
              "      <td id=\"T_02210_row4_col3\" class=\"data row4 col3\" >Allen, Mr. William Henry</td>\n",
              "      <td id=\"T_02210_row4_col4\" class=\"data row4 col4\" >male</td>\n",
              "      <td id=\"T_02210_row4_col5\" class=\"data row4 col5\" >35.000000</td>\n",
              "      <td id=\"T_02210_row4_col6\" class=\"data row4 col6\" >0</td>\n",
              "      <td id=\"T_02210_row4_col7\" class=\"data row4 col7\" >0</td>\n",
              "      <td id=\"T_02210_row4_col8\" class=\"data row4 col8\" >373450</td>\n",
              "      <td id=\"T_02210_row4_col9\" class=\"data row4 col9\" >8.050000</td>\n",
              "      <td id=\"T_02210_row4_col10\" class=\"data row4 col10\" >nan</td>\n",
              "      <td id=\"T_02210_row4_col11\" class=\"data row4 col11\" >S</td>\n",
              "    </tr>\n",
              "  </tbody>\n",
              "</table>\n"
            ]
          },
          "metadata": {},
          "execution_count": 3
        }
      ],
      "source": [
        "titanic_data.head()\n",
        "titanic_data.head().style.set_properties(\n",
        "    **{\n",
        "        'background-color': 'cyan',\n",
        "        'color': 'Black',\n",
        "        'border-color': 'darkblack'\n",
        "    })"
      ]
    },
    {
      "cell_type": "code",
      "execution_count": null,
      "metadata": {
        "colab": {
          "base_uri": "https://localhost:8080/"
        },
        "id": "xBiwSuoP1aJW",
        "outputId": "c4e25dc6-578e-4eb5-c849-0ed7b9a05dba"
      },
      "outputs": [
        {
          "output_type": "execute_result",
          "data": {
            "text/plain": [
              "(891, 12)"
            ]
          },
          "metadata": {},
          "execution_count": 4
        }
      ],
      "source": [
        "titanic_data.shape"
      ]
    },
    {
      "cell_type": "code",
      "execution_count": null,
      "metadata": {
        "colab": {
          "base_uri": "https://localhost:8080/"
        },
        "id": "QI6GyyfT1dEu",
        "outputId": "7c0b5af6-be05-43da-9883-31e27e47a8b6"
      },
      "outputs": [
        {
          "output_type": "stream",
          "name": "stdout",
          "text": [
            "<class 'pandas.core.frame.DataFrame'>\n",
            "RangeIndex: 891 entries, 0 to 890\n",
            "Data columns (total 12 columns):\n",
            " #   Column       Non-Null Count  Dtype  \n",
            "---  ------       --------------  -----  \n",
            " 0   PassengerId  891 non-null    int64  \n",
            " 1   Survived     891 non-null    int64  \n",
            " 2   Pclass       891 non-null    int64  \n",
            " 3   Name         891 non-null    object \n",
            " 4   Sex          891 non-null    object \n",
            " 5   Age          714 non-null    float64\n",
            " 6   SibSp        891 non-null    int64  \n",
            " 7   Parch        891 non-null    int64  \n",
            " 8   Ticket       891 non-null    object \n",
            " 9   Fare         891 non-null    float64\n",
            " 10  Cabin        204 non-null    object \n",
            " 11  Embarked     889 non-null    object \n",
            "dtypes: float64(2), int64(5), object(5)\n",
            "memory usage: 83.7+ KB\n"
          ]
        }
      ],
      "source": [
        "titanic_data.info()"
      ]
    },
    {
      "cell_type": "code",
      "execution_count": null,
      "metadata": {
        "colab": {
          "base_uri": "https://localhost:8080/"
        },
        "id": "pA0hk5xI1gAO",
        "outputId": "6a1c97b2-feb1-4001-c33b-a552be21c7cc"
      },
      "outputs": [
        {
          "output_type": "execute_result",
          "data": {
            "text/plain": [
              "PassengerId      0\n",
              "Survived         0\n",
              "Pclass           0\n",
              "Name             0\n",
              "Sex              0\n",
              "Age            177\n",
              "SibSp            0\n",
              "Parch            0\n",
              "Ticket           0\n",
              "Fare             0\n",
              "Cabin          687\n",
              "Embarked         2\n",
              "dtype: int64"
            ]
          },
          "metadata": {},
          "execution_count": 6
        }
      ],
      "source": [
        "titanic_data.isnull().sum()"
      ]
    },
    {
      "cell_type": "code",
      "execution_count": null,
      "metadata": {
        "id": "4t4lWi1C1krr"
      },
      "outputs": [],
      "source": [
        "#remove missing/null values\n",
        "titanic_data = titanic_data.drop(columns='Cabin', axis=1)"
      ]
    },
    {
      "cell_type": "code",
      "source": [
        "td = pd.read_csv('/content/test.csv')"
      ],
      "metadata": {
        "id": "yE-O2eBw-kxX"
      },
      "execution_count": null,
      "outputs": []
    },
    {
      "cell_type": "code",
      "source": [
        "td.head()\n",
        "td.describe().style.set_properties(\n",
        "    **{\n",
        "        'background-color': 'pink',\n",
        "        'color': 'Black',\n",
        "        'border-color': 'darkblack'\n",
        "    })"
      ],
      "metadata": {
        "id": "s9apXrOy_CJe",
        "colab": {
          "base_uri": "https://localhost:8080/",
          "height": 300
        },
        "outputId": "24ead446-6e47-4f1b-8096-740e51d470d2"
      },
      "execution_count": null,
      "outputs": [
        {
          "output_type": "execute_result",
          "data": {
            "text/plain": [
              "<pandas.io.formats.style.Styler at 0x78744e066e90>"
            ],
            "text/html": [
              "<style type=\"text/css\">\n",
              "#T_e64a1_row0_col0, #T_e64a1_row0_col1, #T_e64a1_row0_col2, #T_e64a1_row0_col3, #T_e64a1_row0_col4, #T_e64a1_row0_col5, #T_e64a1_row1_col0, #T_e64a1_row1_col1, #T_e64a1_row1_col2, #T_e64a1_row1_col3, #T_e64a1_row1_col4, #T_e64a1_row1_col5, #T_e64a1_row2_col0, #T_e64a1_row2_col1, #T_e64a1_row2_col2, #T_e64a1_row2_col3, #T_e64a1_row2_col4, #T_e64a1_row2_col5, #T_e64a1_row3_col0, #T_e64a1_row3_col1, #T_e64a1_row3_col2, #T_e64a1_row3_col3, #T_e64a1_row3_col4, #T_e64a1_row3_col5, #T_e64a1_row4_col0, #T_e64a1_row4_col1, #T_e64a1_row4_col2, #T_e64a1_row4_col3, #T_e64a1_row4_col4, #T_e64a1_row4_col5, #T_e64a1_row5_col0, #T_e64a1_row5_col1, #T_e64a1_row5_col2, #T_e64a1_row5_col3, #T_e64a1_row5_col4, #T_e64a1_row5_col5, #T_e64a1_row6_col0, #T_e64a1_row6_col1, #T_e64a1_row6_col2, #T_e64a1_row6_col3, #T_e64a1_row6_col4, #T_e64a1_row6_col5, #T_e64a1_row7_col0, #T_e64a1_row7_col1, #T_e64a1_row7_col2, #T_e64a1_row7_col3, #T_e64a1_row7_col4, #T_e64a1_row7_col5 {\n",
              "  background-color: pink;\n",
              "  color: Black;\n",
              "  border-color: darkblack;\n",
              "}\n",
              "</style>\n",
              "<table id=\"T_e64a1\" class=\"dataframe\">\n",
              "  <thead>\n",
              "    <tr>\n",
              "      <th class=\"blank level0\" >&nbsp;</th>\n",
              "      <th id=\"T_e64a1_level0_col0\" class=\"col_heading level0 col0\" >PassengerId</th>\n",
              "      <th id=\"T_e64a1_level0_col1\" class=\"col_heading level0 col1\" >Pclass</th>\n",
              "      <th id=\"T_e64a1_level0_col2\" class=\"col_heading level0 col2\" >Age</th>\n",
              "      <th id=\"T_e64a1_level0_col3\" class=\"col_heading level0 col3\" >SibSp</th>\n",
              "      <th id=\"T_e64a1_level0_col4\" class=\"col_heading level0 col4\" >Parch</th>\n",
              "      <th id=\"T_e64a1_level0_col5\" class=\"col_heading level0 col5\" >Fare</th>\n",
              "    </tr>\n",
              "  </thead>\n",
              "  <tbody>\n",
              "    <tr>\n",
              "      <th id=\"T_e64a1_level0_row0\" class=\"row_heading level0 row0\" >count</th>\n",
              "      <td id=\"T_e64a1_row0_col0\" class=\"data row0 col0\" >418.000000</td>\n",
              "      <td id=\"T_e64a1_row0_col1\" class=\"data row0 col1\" >418.000000</td>\n",
              "      <td id=\"T_e64a1_row0_col2\" class=\"data row0 col2\" >332.000000</td>\n",
              "      <td id=\"T_e64a1_row0_col3\" class=\"data row0 col3\" >418.000000</td>\n",
              "      <td id=\"T_e64a1_row0_col4\" class=\"data row0 col4\" >418.000000</td>\n",
              "      <td id=\"T_e64a1_row0_col5\" class=\"data row0 col5\" >417.000000</td>\n",
              "    </tr>\n",
              "    <tr>\n",
              "      <th id=\"T_e64a1_level0_row1\" class=\"row_heading level0 row1\" >mean</th>\n",
              "      <td id=\"T_e64a1_row1_col0\" class=\"data row1 col0\" >1100.500000</td>\n",
              "      <td id=\"T_e64a1_row1_col1\" class=\"data row1 col1\" >2.265550</td>\n",
              "      <td id=\"T_e64a1_row1_col2\" class=\"data row1 col2\" >30.272590</td>\n",
              "      <td id=\"T_e64a1_row1_col3\" class=\"data row1 col3\" >0.447368</td>\n",
              "      <td id=\"T_e64a1_row1_col4\" class=\"data row1 col4\" >0.392344</td>\n",
              "      <td id=\"T_e64a1_row1_col5\" class=\"data row1 col5\" >35.627188</td>\n",
              "    </tr>\n",
              "    <tr>\n",
              "      <th id=\"T_e64a1_level0_row2\" class=\"row_heading level0 row2\" >std</th>\n",
              "      <td id=\"T_e64a1_row2_col0\" class=\"data row2 col0\" >120.810458</td>\n",
              "      <td id=\"T_e64a1_row2_col1\" class=\"data row2 col1\" >0.841838</td>\n",
              "      <td id=\"T_e64a1_row2_col2\" class=\"data row2 col2\" >14.181209</td>\n",
              "      <td id=\"T_e64a1_row2_col3\" class=\"data row2 col3\" >0.896760</td>\n",
              "      <td id=\"T_e64a1_row2_col4\" class=\"data row2 col4\" >0.981429</td>\n",
              "      <td id=\"T_e64a1_row2_col5\" class=\"data row2 col5\" >55.907576</td>\n",
              "    </tr>\n",
              "    <tr>\n",
              "      <th id=\"T_e64a1_level0_row3\" class=\"row_heading level0 row3\" >min</th>\n",
              "      <td id=\"T_e64a1_row3_col0\" class=\"data row3 col0\" >892.000000</td>\n",
              "      <td id=\"T_e64a1_row3_col1\" class=\"data row3 col1\" >1.000000</td>\n",
              "      <td id=\"T_e64a1_row3_col2\" class=\"data row3 col2\" >0.170000</td>\n",
              "      <td id=\"T_e64a1_row3_col3\" class=\"data row3 col3\" >0.000000</td>\n",
              "      <td id=\"T_e64a1_row3_col4\" class=\"data row3 col4\" >0.000000</td>\n",
              "      <td id=\"T_e64a1_row3_col5\" class=\"data row3 col5\" >0.000000</td>\n",
              "    </tr>\n",
              "    <tr>\n",
              "      <th id=\"T_e64a1_level0_row4\" class=\"row_heading level0 row4\" >25%</th>\n",
              "      <td id=\"T_e64a1_row4_col0\" class=\"data row4 col0\" >996.250000</td>\n",
              "      <td id=\"T_e64a1_row4_col1\" class=\"data row4 col1\" >1.000000</td>\n",
              "      <td id=\"T_e64a1_row4_col2\" class=\"data row4 col2\" >21.000000</td>\n",
              "      <td id=\"T_e64a1_row4_col3\" class=\"data row4 col3\" >0.000000</td>\n",
              "      <td id=\"T_e64a1_row4_col4\" class=\"data row4 col4\" >0.000000</td>\n",
              "      <td id=\"T_e64a1_row4_col5\" class=\"data row4 col5\" >7.895800</td>\n",
              "    </tr>\n",
              "    <tr>\n",
              "      <th id=\"T_e64a1_level0_row5\" class=\"row_heading level0 row5\" >50%</th>\n",
              "      <td id=\"T_e64a1_row5_col0\" class=\"data row5 col0\" >1100.500000</td>\n",
              "      <td id=\"T_e64a1_row5_col1\" class=\"data row5 col1\" >3.000000</td>\n",
              "      <td id=\"T_e64a1_row5_col2\" class=\"data row5 col2\" >27.000000</td>\n",
              "      <td id=\"T_e64a1_row5_col3\" class=\"data row5 col3\" >0.000000</td>\n",
              "      <td id=\"T_e64a1_row5_col4\" class=\"data row5 col4\" >0.000000</td>\n",
              "      <td id=\"T_e64a1_row5_col5\" class=\"data row5 col5\" >14.454200</td>\n",
              "    </tr>\n",
              "    <tr>\n",
              "      <th id=\"T_e64a1_level0_row6\" class=\"row_heading level0 row6\" >75%</th>\n",
              "      <td id=\"T_e64a1_row6_col0\" class=\"data row6 col0\" >1204.750000</td>\n",
              "      <td id=\"T_e64a1_row6_col1\" class=\"data row6 col1\" >3.000000</td>\n",
              "      <td id=\"T_e64a1_row6_col2\" class=\"data row6 col2\" >39.000000</td>\n",
              "      <td id=\"T_e64a1_row6_col3\" class=\"data row6 col3\" >1.000000</td>\n",
              "      <td id=\"T_e64a1_row6_col4\" class=\"data row6 col4\" >0.000000</td>\n",
              "      <td id=\"T_e64a1_row6_col5\" class=\"data row6 col5\" >31.500000</td>\n",
              "    </tr>\n",
              "    <tr>\n",
              "      <th id=\"T_e64a1_level0_row7\" class=\"row_heading level0 row7\" >max</th>\n",
              "      <td id=\"T_e64a1_row7_col0\" class=\"data row7 col0\" >1309.000000</td>\n",
              "      <td id=\"T_e64a1_row7_col1\" class=\"data row7 col1\" >3.000000</td>\n",
              "      <td id=\"T_e64a1_row7_col2\" class=\"data row7 col2\" >76.000000</td>\n",
              "      <td id=\"T_e64a1_row7_col3\" class=\"data row7 col3\" >8.000000</td>\n",
              "      <td id=\"T_e64a1_row7_col4\" class=\"data row7 col4\" >9.000000</td>\n",
              "      <td id=\"T_e64a1_row7_col5\" class=\"data row7 col5\" >512.329200</td>\n",
              "    </tr>\n",
              "  </tbody>\n",
              "</table>\n"
            ]
          },
          "metadata": {},
          "execution_count": 8
        }
      ]
    },
    {
      "cell_type": "code",
      "source": [
        "td.shape"
      ],
      "metadata": {
        "id": "vFmwEJA3EP-o",
        "colab": {
          "base_uri": "https://localhost:8080/"
        },
        "outputId": "fb8827eb-e1bb-4428-fc0d-e4822dcf90cd"
      },
      "execution_count": null,
      "outputs": [
        {
          "output_type": "execute_result",
          "data": {
            "text/plain": [
              "(418, 11)"
            ]
          },
          "metadata": {},
          "execution_count": 9
        }
      ]
    },
    {
      "cell_type": "code",
      "source": [
        "td.info()"
      ],
      "metadata": {
        "id": "e9G7duwhEQAq",
        "colab": {
          "base_uri": "https://localhost:8080/"
        },
        "outputId": "6ffdb3f9-a9b6-41e9-f136-3fb426076248"
      },
      "execution_count": null,
      "outputs": [
        {
          "output_type": "stream",
          "name": "stdout",
          "text": [
            "<class 'pandas.core.frame.DataFrame'>\n",
            "RangeIndex: 418 entries, 0 to 417\n",
            "Data columns (total 11 columns):\n",
            " #   Column       Non-Null Count  Dtype  \n",
            "---  ------       --------------  -----  \n",
            " 0   PassengerId  418 non-null    int64  \n",
            " 1   Pclass       418 non-null    int64  \n",
            " 2   Name         418 non-null    object \n",
            " 3   Sex          418 non-null    object \n",
            " 4   Age          332 non-null    float64\n",
            " 5   SibSp        418 non-null    int64  \n",
            " 6   Parch        418 non-null    int64  \n",
            " 7   Ticket       418 non-null    object \n",
            " 8   Fare         417 non-null    float64\n",
            " 9   Cabin        91 non-null     object \n",
            " 10  Embarked     418 non-null    object \n",
            "dtypes: float64(2), int64(4), object(5)\n",
            "memory usage: 36.0+ KB\n"
          ]
        }
      ]
    },
    {
      "cell_type": "code",
      "source": [
        "print(td.isnull().sum().sort_values())"
      ],
      "metadata": {
        "id": "uteVhJ-IEQEF",
        "colab": {
          "base_uri": "https://localhost:8080/"
        },
        "outputId": "31d7644f-7d25-4a05-e41c-8a8cc9c865ae"
      },
      "execution_count": null,
      "outputs": [
        {
          "output_type": "stream",
          "name": "stdout",
          "text": [
            "PassengerId      0\n",
            "Pclass           0\n",
            "Name             0\n",
            "Sex              0\n",
            "SibSp            0\n",
            "Parch            0\n",
            "Ticket           0\n",
            "Embarked         0\n",
            "Fare             1\n",
            "Age             86\n",
            "Cabin          327\n",
            "dtype: int64\n"
          ]
        }
      ]
    },
    {
      "cell_type": "code",
      "source": [
        "td = td.drop(['Cabin'], axis=1)"
      ],
      "metadata": {
        "id": "7CUlAH9cGU2b"
      },
      "execution_count": null,
      "outputs": []
    },
    {
      "cell_type": "code",
      "source": [
        "td['Fare'].median()"
      ],
      "metadata": {
        "colab": {
          "base_uri": "https://localhost:8080/"
        },
        "id": "2UZOrBddGU6q",
        "outputId": "3eaf8fb8-9ed9-4ff8-9c1d-135c95fd86b7"
      },
      "execution_count": null,
      "outputs": [
        {
          "output_type": "execute_result",
          "data": {
            "text/plain": [
              "14.4542"
            ]
          },
          "metadata": {},
          "execution_count": 49
        }
      ]
    },
    {
      "cell_type": "code",
      "source": [
        "print(titanic_data[['Pclass', 'Survived']].groupby(['Pclass'], as_index=False).mean().sort_values(by='Survived', ascending=False))\n",
        "print('.'*100)\n",
        "sns.countplot(x = 'Pclass',data = titanic_data, hue = 'Survived', color='#340B74')\n",
        "plt.show()"
      ],
      "metadata": {
        "colab": {
          "base_uri": "https://localhost:8080/",
          "height": 632
        },
        "id": "nVYPQvWMGrng",
        "outputId": "3b83ddb1-8e5a-403b-de82-15dc16560a95"
      },
      "execution_count": null,
      "outputs": [
        {
          "output_type": "stream",
          "name": "stdout",
          "text": [
            "   Pclass  Survived\n",
            "0       1  0.629630\n",
            "1       2  0.472826\n",
            "2       3  0.242363\n",
            "....................................................................................................\n"
          ]
        },
        {
          "output_type": "stream",
          "name": "stderr",
          "text": [
            "<ipython-input-51-5e42b434e267>:3: FutureWarning: \n",
            "\n",
            "Setting a gradient palette using color= is deprecated and will be removed in v0.14.0. Set `palette='dark:#340B74'` for the same effect.\n",
            "\n",
            "  sns.countplot(x = 'Pclass',data = titanic_data, hue = 'Survived', color='#340B74')\n"
          ]
        },
        {
          "output_type": "display_data",
          "data": {
            "text/plain": [
              "<Figure size 640x480 with 1 Axes>"
            ],
            "image/png": "[encoded data removed]"
          },
          "metadata": {}
        }
      ]
    },
    {
      "cell_type": "code",
      "source": [
        "print(titanic_data[[\"Sex\", \"Survived\"]].groupby(['Sex'], as_index=False).mean().sort_values(by='Survived', ascending=False))\n",
        "print('.'*100)\n",
        "#Univariate Data Analysis/Bar Chart for Categorical Features\n",
        "sns.countplot(x = 'Sex',data = titanic_data ,hue = 'Survived', color='#EB69B8')\n",
        "plt.show()"
      ],
      "metadata": {
        "colab": {
          "base_uri": "https://localhost:8080/",
          "height": 614
        },
        "id": "JGuDG6nTGrsN",
        "outputId": "eb2cd94a-4f02-4570-d53c-d92f4e187a17"
      },
      "execution_count": null,
      "outputs": [
        {
          "output_type": "stream",
          "name": "stdout",
          "text": [
            "   Sex  Survived\n",
            "1    1  0.742038\n",
            "0    0  0.188908\n",
            "....................................................................................................\n"
          ]
        },
        {
          "output_type": "stream",
          "name": "stderr",
          "text": [
            "<ipython-input-52-23eef5b47ca7>:4: FutureWarning: \n",
            "\n",
            "Setting a gradient palette using color= is deprecated and will be removed in v0.14.0. Set `palette='dark:#EB69B8'` for the same effect.\n",
            "\n",
            "  sns.countplot(x = 'Sex',data = titanic_data ,hue = 'Survived', color='#EB69B8')\n"
          ]
        },
        {
          "output_type": "display_data",
          "data": {
            "text/plain": [
              "<Figure size 640x480 with 1 Axes>"
            ],
            "image/png": "[encoded data removed]"
          },
          "metadata": {}
        }
      ]
    },
    {
      "cell_type": "code",
      "source": [
        "age = sns.FacetGrid(titanic_data, col='Survived')\n",
        "age.map(plt.hist, 'Age', bins=20, color='#AC49C6')"
      ],
      "metadata": {
        "colab": {
          "base_uri": "https://localhost:8080/",
          "height": 318
        },
        "id": "iTxQqWOdGrwk",
        "outputId": "ed786dcb-bb9f-4ef0-9fce-5977da11e61b"
      },
      "execution_count": null,
      "outputs": [
        {
          "output_type": "execute_result",
          "data": {
            "text/plain": [
              "<seaborn.axisgrid.FacetGrid at 0x7874111ccca0>"
            ]
          },
          "metadata": {},
          "execution_count": 54
        },
        {
          "output_type": "display_data",
          "data": {
            "text/plain": [
              "<Figure size 600x300 with 2 Axes>"
            ],
            "image/png": "[encoded data removed]"
          },
          "metadata": {}
        }
      ]
    },
    {
      "cell_type": "code",
      "execution_count": null,
      "metadata": {
        "id": "JrHtYPG711az"
      },
      "outputs": [],
      "source": [
        "#replacing missing values with mean number\n",
        "titanic_data['Age'].fillna(titanic_data['Age'].mean(), inplace=True)"
      ]
    },
    {
      "cell_type": "code",
      "execution_count": null,
      "metadata": {
        "colab": {
          "base_uri": "https://localhost:8080/"
        },
        "id": "G5gyFrXB2GNW",
        "outputId": "2c9c3417-9bf6-4422-dc45-36207067d4a8"
      },
      "outputs": [
        {
          "output_type": "stream",
          "name": "stdout",
          "text": [
            "<class 'pandas.core.frame.DataFrame'>\n",
            "RangeIndex: 891 entries, 0 to 890\n",
            "Data columns (total 11 columns):\n",
            " #   Column       Non-Null Count  Dtype  \n",
            "---  ------       --------------  -----  \n",
            " 0   PassengerId  891 non-null    int64  \n",
            " 1   Survived     891 non-null    int64  \n",
            " 2   Pclass       891 non-null    int64  \n",
            " 3   Name         891 non-null    object \n",
            " 4   Sex          891 non-null    object \n",
            " 5   Age          891 non-null    float64\n",
            " 6   SibSp        891 non-null    int64  \n",
            " 7   Parch        891 non-null    int64  \n",
            " 8   Ticket       891 non-null    object \n",
            " 9   Fare         891 non-null    float64\n",
            " 10  Embarked     889 non-null    object \n",
            "dtypes: float64(2), int64(5), object(4)\n",
            "memory usage: 76.7+ KB\n"
          ]
        }
      ],
      "source": [
        "titanic_data.info()"
      ]
    },
    {
      "cell_type": "code",
      "execution_count": null,
      "metadata": {
        "colab": {
          "base_uri": "https://localhost:8080/"
        },
        "id": "33g1z11i2JpZ",
        "outputId": "05ca8f83-13a9-49c8-ed37-fb0e45eb6590"
      },
      "outputs": [
        {
          "output_type": "execute_result",
          "data": {
            "text/plain": [
              "PassengerId    0\n",
              "Survived       0\n",
              "Pclass         0\n",
              "Name           0\n",
              "Sex            0\n",
              "Age            0\n",
              "SibSp          0\n",
              "Parch          0\n",
              "Ticket         0\n",
              "Fare           0\n",
              "Embarked       2\n",
              "dtype: int64"
            ]
          },
          "metadata": {},
          "execution_count": 14
        }
      ],
      "source": [
        "titanic_data.isnull().sum()"
      ]
    },
    {
      "cell_type": "code",
      "execution_count": null,
      "metadata": {
        "colab": {
          "base_uri": "https://localhost:8080/"
        },
        "id": "6bbwZc4B2RZD",
        "outputId": "32188b93-5df5-4aae-af65-1a53bd1b95cf"
      },
      "outputs": [
        {
          "output_type": "stream",
          "name": "stdout",
          "text": [
            "0    S\n",
            "Name: Embarked, dtype: object\n"
          ]
        }
      ],
      "source": [
        "#lets fix embarked\n",
        "print(titanic_data['Embarked'].mode())"
      ]
    },
    {
      "cell_type": "code",
      "execution_count": null,
      "metadata": {
        "colab": {
          "base_uri": "https://localhost:8080/"
        },
        "id": "RA7VqbQ_2d8Y",
        "outputId": "8a21877d-b0c2-42b8-8643-f8c3b169fc6e"
      },
      "outputs": [
        {
          "output_type": "stream",
          "name": "stdout",
          "text": [
            "S\n"
          ]
        }
      ],
      "source": [
        "print(titanic_data['Embarked'].mode()[0])"
      ]
    },
    {
      "cell_type": "code",
      "execution_count": null,
      "metadata": {
        "id": "63uqYz6A2jGl"
      },
      "outputs": [],
      "source": [
        "#replace the mode value with the missing value\n",
        "titanic_data['Embarked'].fillna(titanic_data['Embarked'].mode()[0], inplace=True)"
      ]
    },
    {
      "cell_type": "code",
      "execution_count": null,
      "metadata": {
        "colab": {
          "base_uri": "https://localhost:8080/"
        },
        "id": "nx5q_H602zfe",
        "outputId": "5e584560-457d-4545-d6b3-6e91b141a915"
      },
      "outputs": [
        {
          "output_type": "execute_result",
          "data": {
            "text/plain": [
              "PassengerId    0\n",
              "Survived       0\n",
              "Pclass         0\n",
              "Name           0\n",
              "Sex            0\n",
              "Age            0\n",
              "SibSp          0\n",
              "Parch          0\n",
              "Ticket         0\n",
              "Fare           0\n",
              "Embarked       0\n",
              "dtype: int64"
            ]
          },
          "metadata": {},
          "execution_count": 18
        }
      ],
      "source": [
        "titanic_data.isnull().sum()"
      ]
    },
    {
      "cell_type": "markdown",
      "metadata": {
        "id": "POJUvrqU27jV"
      },
      "source": [
        "Analysing the data"
      ]
    },
    {
      "cell_type": "code",
      "execution_count": null,
      "metadata": {
        "colab": {
          "base_uri": "https://localhost:8080/",
          "height": 300
        },
        "id": "FO4IxUmR23X_",
        "outputId": "66b8a978-f0c7-4bb7-bcef-481d74cfb6f6"
      },
      "outputs": [
        {
          "output_type": "execute_result",
          "data": {
            "text/plain": [
              "<pandas.io.formats.style.Styler at 0x7874111558d0>"
            ],
            "text/html": [
              "<style type=\"text/css\">\n",
              "#T_9abf6_row0_col0, #T_9abf6_row0_col1, #T_9abf6_row0_col2, #T_9abf6_row0_col3, #T_9abf6_row0_col4, #T_9abf6_row0_col5, #T_9abf6_row0_col6, #T_9abf6_row0_col7, #T_9abf6_row0_col8, #T_9abf6_row1_col0, #T_9abf6_row1_col1, #T_9abf6_row1_col2, #T_9abf6_row1_col3, #T_9abf6_row1_col4, #T_9abf6_row1_col5, #T_9abf6_row1_col6, #T_9abf6_row1_col7, #T_9abf6_row1_col8, #T_9abf6_row2_col0, #T_9abf6_row2_col1, #T_9abf6_row2_col2, #T_9abf6_row2_col3, #T_9abf6_row2_col4, #T_9abf6_row2_col5, #T_9abf6_row2_col6, #T_9abf6_row2_col7, #T_9abf6_row2_col8, #T_9abf6_row3_col0, #T_9abf6_row3_col1, #T_9abf6_row3_col2, #T_9abf6_row3_col3, #T_9abf6_row3_col4, #T_9abf6_row3_col5, #T_9abf6_row3_col6, #T_9abf6_row3_col7, #T_9abf6_row3_col8, #T_9abf6_row4_col0, #T_9abf6_row4_col1, #T_9abf6_row4_col2, #T_9abf6_row4_col3, #T_9abf6_row4_col4, #T_9abf6_row4_col5, #T_9abf6_row4_col6, #T_9abf6_row4_col7, #T_9abf6_row4_col8, #T_9abf6_row5_col0, #T_9abf6_row5_col1, #T_9abf6_row5_col2, #T_9abf6_row5_col3, #T_9abf6_row5_col4, #T_9abf6_row5_col5, #T_9abf6_row5_col6, #T_9abf6_row5_col7, #T_9abf6_row5_col8, #T_9abf6_row6_col0, #T_9abf6_row6_col1, #T_9abf6_row6_col2, #T_9abf6_row6_col3, #T_9abf6_row6_col4, #T_9abf6_row6_col5, #T_9abf6_row6_col6, #T_9abf6_row6_col7, #T_9abf6_row6_col8, #T_9abf6_row7_col0, #T_9abf6_row7_col1, #T_9abf6_row7_col2, #T_9abf6_row7_col3, #T_9abf6_row7_col4, #T_9abf6_row7_col5, #T_9abf6_row7_col6, #T_9abf6_row7_col7, #T_9abf6_row7_col8 {\n",
              "  background-color: yellow;\n",
              "  color: Blue;\n",
              "  border-color: Black;\n",
              "}\n",
              "</style>\n",
              "<table id=\"T_9abf6\" class=\"dataframe\">\n",
              "  <thead>\n",
              "    <tr>\n",
              "      <th class=\"blank level0\" >&nbsp;</th>\n",
              "      <th id=\"T_9abf6_level0_col0\" class=\"col_heading level0 col0\" >PassengerId</th>\n",
              "      <th id=\"T_9abf6_level0_col1\" class=\"col_heading level0 col1\" >Survived</th>\n",
              "      <th id=\"T_9abf6_level0_col2\" class=\"col_heading level0 col2\" >Pclass</th>\n",
              "      <th id=\"T_9abf6_level0_col3\" class=\"col_heading level0 col3\" >Sex</th>\n",
              "      <th id=\"T_9abf6_level0_col4\" class=\"col_heading level0 col4\" >Age</th>\n",
              "      <th id=\"T_9abf6_level0_col5\" class=\"col_heading level0 col5\" >SibSp</th>\n",
              "      <th id=\"T_9abf6_level0_col6\" class=\"col_heading level0 col6\" >Parch</th>\n",
              "      <th id=\"T_9abf6_level0_col7\" class=\"col_heading level0 col7\" >Fare</th>\n",
              "      <th id=\"T_9abf6_level0_col8\" class=\"col_heading level0 col8\" >Embarked</th>\n",
              "    </tr>\n",
              "  </thead>\n",
              "  <tbody>\n",
              "    <tr>\n",
              "      <th id=\"T_9abf6_level0_row0\" class=\"row_heading level0 row0\" >count</th>\n",
              "      <td id=\"T_9abf6_row0_col0\" class=\"data row0 col0\" >891.000000</td>\n",
              "      <td id=\"T_9abf6_row0_col1\" class=\"data row0 col1\" >891.000000</td>\n",
              "      <td id=\"T_9abf6_row0_col2\" class=\"data row0 col2\" >891.000000</td>\n",
              "      <td id=\"T_9abf6_row0_col3\" class=\"data row0 col3\" >891.000000</td>\n",
              "      <td id=\"T_9abf6_row0_col4\" class=\"data row0 col4\" >891.000000</td>\n",
              "      <td id=\"T_9abf6_row0_col5\" class=\"data row0 col5\" >891.000000</td>\n",
              "      <td id=\"T_9abf6_row0_col6\" class=\"data row0 col6\" >891.000000</td>\n",
              "      <td id=\"T_9abf6_row0_col7\" class=\"data row0 col7\" >891.000000</td>\n",
              "      <td id=\"T_9abf6_row0_col8\" class=\"data row0 col8\" >891.000000</td>\n",
              "    </tr>\n",
              "    <tr>\n",
              "      <th id=\"T_9abf6_level0_row1\" class=\"row_heading level0 row1\" >mean</th>\n",
              "      <td id=\"T_9abf6_row1_col0\" class=\"data row1 col0\" >446.000000</td>\n",
              "      <td id=\"T_9abf6_row1_col1\" class=\"data row1 col1\" >0.383838</td>\n",
              "      <td id=\"T_9abf6_row1_col2\" class=\"data row1 col2\" >2.308642</td>\n",
              "      <td id=\"T_9abf6_row1_col3\" class=\"data row1 col3\" >0.352413</td>\n",
              "      <td id=\"T_9abf6_row1_col4\" class=\"data row1 col4\" >29.699118</td>\n",
              "      <td id=\"T_9abf6_row1_col5\" class=\"data row1 col5\" >0.523008</td>\n",
              "      <td id=\"T_9abf6_row1_col6\" class=\"data row1 col6\" >0.381594</td>\n",
              "      <td id=\"T_9abf6_row1_col7\" class=\"data row1 col7\" >32.204208</td>\n",
              "      <td id=\"T_9abf6_row1_col8\" class=\"data row1 col8\" >0.361392</td>\n",
              "    </tr>\n",
              "    <tr>\n",
              "      <th id=\"T_9abf6_level0_row2\" class=\"row_heading level0 row2\" >std</th>\n",
              "      <td id=\"T_9abf6_row2_col0\" class=\"data row2 col0\" >257.353842</td>\n",
              "      <td id=\"T_9abf6_row2_col1\" class=\"data row2 col1\" >0.486592</td>\n",
              "      <td id=\"T_9abf6_row2_col2\" class=\"data row2 col2\" >0.836071</td>\n",
              "      <td id=\"T_9abf6_row2_col3\" class=\"data row2 col3\" >0.477990</td>\n",
              "      <td id=\"T_9abf6_row2_col4\" class=\"data row2 col4\" >13.002015</td>\n",
              "      <td id=\"T_9abf6_row2_col5\" class=\"data row2 col5\" >1.102743</td>\n",
              "      <td id=\"T_9abf6_row2_col6\" class=\"data row2 col6\" >0.806057</td>\n",
              "      <td id=\"T_9abf6_row2_col7\" class=\"data row2 col7\" >49.693429</td>\n",
              "      <td id=\"T_9abf6_row2_col8\" class=\"data row2 col8\" >0.635673</td>\n",
              "    </tr>\n",
              "    <tr>\n",
              "      <th id=\"T_9abf6_level0_row3\" class=\"row_heading level0 row3\" >min</th>\n",
              "      <td id=\"T_9abf6_row3_col0\" class=\"data row3 col0\" >1.000000</td>\n",
              "      <td id=\"T_9abf6_row3_col1\" class=\"data row3 col1\" >0.000000</td>\n",
              "      <td id=\"T_9abf6_row3_col2\" class=\"data row3 col2\" >1.000000</td>\n",
              "      <td id=\"T_9abf6_row3_col3\" class=\"data row3 col3\" >0.000000</td>\n",
              "      <td id=\"T_9abf6_row3_col4\" class=\"data row3 col4\" >0.420000</td>\n",
              "      <td id=\"T_9abf6_row3_col5\" class=\"data row3 col5\" >0.000000</td>\n",
              "      <td id=\"T_9abf6_row3_col6\" class=\"data row3 col6\" >0.000000</td>\n",
              "      <td id=\"T_9abf6_row3_col7\" class=\"data row3 col7\" >0.000000</td>\n",
              "      <td id=\"T_9abf6_row3_col8\" class=\"data row3 col8\" >0.000000</td>\n",
              "    </tr>\n",
              "    <tr>\n",
              "      <th id=\"T_9abf6_level0_row4\" class=\"row_heading level0 row4\" >25%</th>\n",
              "      <td id=\"T_9abf6_row4_col0\" class=\"data row4 col0\" >223.500000</td>\n",
              "      <td id=\"T_9abf6_row4_col1\" class=\"data row4 col1\" >0.000000</td>\n",
              "      <td id=\"T_9abf6_row4_col2\" class=\"data row4 col2\" >2.000000</td>\n",
              "      <td id=\"T_9abf6_row4_col3\" class=\"data row4 col3\" >0.000000</td>\n",
              "      <td id=\"T_9abf6_row4_col4\" class=\"data row4 col4\" >22.000000</td>\n",
              "      <td id=\"T_9abf6_row4_col5\" class=\"data row4 col5\" >0.000000</td>\n",
              "      <td id=\"T_9abf6_row4_col6\" class=\"data row4 col6\" >0.000000</td>\n",
              "      <td id=\"T_9abf6_row4_col7\" class=\"data row4 col7\" >7.910400</td>\n",
              "      <td id=\"T_9abf6_row4_col8\" class=\"data row4 col8\" >0.000000</td>\n",
              "    </tr>\n",
              "    <tr>\n",
              "      <th id=\"T_9abf6_level0_row5\" class=\"row_heading level0 row5\" >50%</th>\n",
              "      <td id=\"T_9abf6_row5_col0\" class=\"data row5 col0\" >446.000000</td>\n",
              "      <td id=\"T_9abf6_row5_col1\" class=\"data row5 col1\" >0.000000</td>\n",
              "      <td id=\"T_9abf6_row5_col2\" class=\"data row5 col2\" >3.000000</td>\n",
              "      <td id=\"T_9abf6_row5_col3\" class=\"data row5 col3\" >0.000000</td>\n",
              "      <td id=\"T_9abf6_row5_col4\" class=\"data row5 col4\" >29.699118</td>\n",
              "      <td id=\"T_9abf6_row5_col5\" class=\"data row5 col5\" >0.000000</td>\n",
              "      <td id=\"T_9abf6_row5_col6\" class=\"data row5 col6\" >0.000000</td>\n",
              "      <td id=\"T_9abf6_row5_col7\" class=\"data row5 col7\" >14.454200</td>\n",
              "      <td id=\"T_9abf6_row5_col8\" class=\"data row5 col8\" >0.000000</td>\n",
              "    </tr>\n",
              "    <tr>\n",
              "      <th id=\"T_9abf6_level0_row6\" class=\"row_heading level0 row6\" >75%</th>\n",
              "      <td id=\"T_9abf6_row6_col0\" class=\"data row6 col0\" >668.500000</td>\n",
              "      <td id=\"T_9abf6_row6_col1\" class=\"data row6 col1\" >1.000000</td>\n",
              "      <td id=\"T_9abf6_row6_col2\" class=\"data row6 col2\" >3.000000</td>\n",
              "      <td id=\"T_9abf6_row6_col3\" class=\"data row6 col3\" >1.000000</td>\n",
              "      <td id=\"T_9abf6_row6_col4\" class=\"data row6 col4\" >35.000000</td>\n",
              "      <td id=\"T_9abf6_row6_col5\" class=\"data row6 col5\" >1.000000</td>\n",
              "      <td id=\"T_9abf6_row6_col6\" class=\"data row6 col6\" >0.000000</td>\n",
              "      <td id=\"T_9abf6_row6_col7\" class=\"data row6 col7\" >31.000000</td>\n",
              "      <td id=\"T_9abf6_row6_col8\" class=\"data row6 col8\" >1.000000</td>\n",
              "    </tr>\n",
              "    <tr>\n",
              "      <th id=\"T_9abf6_level0_row7\" class=\"row_heading level0 row7\" >max</th>\n",
              "      <td id=\"T_9abf6_row7_col0\" class=\"data row7 col0\" >891.000000</td>\n",
              "      <td id=\"T_9abf6_row7_col1\" class=\"data row7 col1\" >1.000000</td>\n",
              "      <td id=\"T_9abf6_row7_col2\" class=\"data row7 col2\" >3.000000</td>\n",
              "      <td id=\"T_9abf6_row7_col3\" class=\"data row7 col3\" >1.000000</td>\n",
              "      <td id=\"T_9abf6_row7_col4\" class=\"data row7 col4\" >80.000000</td>\n",
              "      <td id=\"T_9abf6_row7_col5\" class=\"data row7 col5\" >8.000000</td>\n",
              "      <td id=\"T_9abf6_row7_col6\" class=\"data row7 col6\" >6.000000</td>\n",
              "      <td id=\"T_9abf6_row7_col7\" class=\"data row7 col7\" >512.329200</td>\n",
              "      <td id=\"T_9abf6_row7_col8\" class=\"data row7 col8\" >2.000000</td>\n",
              "    </tr>\n",
              "  </tbody>\n",
              "</table>\n"
            ]
          },
          "metadata": {},
          "execution_count": 56
        }
      ],
      "source": [
        "titanic_data.describe()\n",
        "titanic_data.describe().style.set_properties(\n",
        "    **{\n",
        "        'background-color': 'yellow',\n",
        "        'color': 'Blue',\n",
        "        'border-color': 'Black'\n",
        "    })"
      ]
    },
    {
      "cell_type": "code",
      "execution_count": null,
      "metadata": {
        "colab": {
          "base_uri": "https://localhost:8080/"
        },
        "id": "EN6hwOD83CwY",
        "outputId": "040dfdfd-1bc5-4a12-8678-447a3aa35f00"
      },
      "outputs": [
        {
          "output_type": "execute_result",
          "data": {
            "text/plain": [
              "Survived\n",
              "0    549\n",
              "1    342\n",
              "Name: count, dtype: int64"
            ]
          },
          "metadata": {},
          "execution_count": 20
        }
      ],
      "source": [
        "#how many survived?\n",
        "titanic_data['Survived'].value_counts()"
      ]
    },
    {
      "cell_type": "code",
      "execution_count": null,
      "metadata": {
        "id": "RamRLNNE3PFg"
      },
      "outputs": [],
      "source": [
        "#visualizing data\n",
        "sns.set()"
      ]
    },
    {
      "cell_type": "code",
      "execution_count": null,
      "metadata": {
        "colab": {
          "base_uri": "https://localhost:8080/",
          "height": 451
        },
        "id": "9CX9f1vD3cD3",
        "outputId": "55d0a984-6a0f-4d08-be16-76a734bb8981"
      },
      "outputs": [
        {
          "output_type": "execute_result",
          "data": {
            "text/plain": [
              "<Axes: ylabel='count'>"
            ]
          },
          "metadata": {},
          "execution_count": 22
        },
        {
          "output_type": "display_data",
          "data": {
            "text/plain": [
              "<Figure size 640x480 with 1 Axes>"
            ],
            "image/png": "[encoded data removed]"
          },
          "metadata": {}
        }
      ],
      "source": [
        "sns.countplot(titanic_data['Survived'])"
      ]
    },
    {
      "cell_type": "code",
      "execution_count": null,
      "metadata": {
        "colab": {
          "base_uri": "https://localhost:8080/"
        },
        "id": "jhk4hQIH3jIi",
        "outputId": "377bf9f5-b0c5-4f36-d032-51989474f5a0"
      },
      "outputs": [
        {
          "output_type": "execute_result",
          "data": {
            "text/plain": [
              "Sex\n",
              "male      577\n",
              "female    314\n",
              "Name: count, dtype: int64"
            ]
          },
          "metadata": {},
          "execution_count": 23
        }
      ],
      "source": [
        "titanic_data['Sex'].value_counts()"
      ]
    },
    {
      "cell_type": "code",
      "execution_count": null,
      "metadata": {
        "colab": {
          "base_uri": "https://localhost:8080/",
          "height": 475
        },
        "id": "NdxlxvUJ4Qpu",
        "outputId": "7e3a7115-26b9-458c-9b62-71b64d7aadba"
      },
      "outputs": [
        {
          "output_type": "execute_result",
          "data": {
            "text/plain": [
              "<Axes: xlabel='count', ylabel='Sex'>"
            ]
          },
          "metadata": {},
          "execution_count": 24
        },
        {
          "output_type": "display_data",
          "data": {
            "text/plain": [
              "<Figure size 640x480 with 1 Axes>"
            ],
            "image/png": "[encoded data removed]"
          },
          "metadata": {}
        }
      ],
      "source": [
        "# count plot for \"Sex\" column\n",
        "sns.countplot(titanic_data['Sex'])"
      ]
    },
    {
      "cell_type": "code",
      "execution_count": null,
      "metadata": {
        "colab": {
          "base_uri": "https://localhost:8080/",
          "height": 475
        },
        "id": "4InClemH4TdY",
        "outputId": "a765cf92-92a2-432e-a387-d793bd35c0f0"
      },
      "outputs": [
        {
          "output_type": "execute_result",
          "data": {
            "text/plain": [
              "<Axes: xlabel='Sex', ylabel='count'>"
            ]
          },
          "metadata": {},
          "execution_count": 25
        },
        {
          "output_type": "display_data",
          "data": {
            "text/plain": [
              "<Figure size 640x480 with 1 Axes>"
            ],
            "image/png": "[encoded data removed]"
          },
          "metadata": {}
        }
      ],
      "source": [
        "# Analysing Gender wise survivors\n",
        "sns.countplot(x='Sex', hue='Survived', data=titanic_data)"
      ]
    },
    {
      "cell_type": "code",
      "execution_count": null,
      "metadata": {
        "colab": {
          "base_uri": "https://localhost:8080/",
          "height": 475
        },
        "id": "EavBJU2C4hwI",
        "outputId": "809b8d4c-d939-4bc4-ece4-e04c79eb044a"
      },
      "outputs": [
        {
          "output_type": "execute_result",
          "data": {
            "text/plain": [
              "<Axes: xlabel='Pclass', ylabel='count'>"
            ]
          },
          "metadata": {},
          "execution_count": 26
        },
        {
          "output_type": "display_data",
          "data": {
            "text/plain": [
              "<Figure size 640x480 with 1 Axes>"
            ],
            "image/png": "[encoded data removed]"
          },
          "metadata": {}
        }
      ],
      "source": [
        "# count plot for \"Pclass\" column\n",
        "sns.countplot(x='Pclass', data=titanic_data)"
      ]
    },
    {
      "cell_type": "code",
      "execution_count": null,
      "metadata": {
        "colab": {
          "base_uri": "https://localhost:8080/",
          "height": 475
        },
        "id": "-eKJcE_74rpF",
        "outputId": "b952ad84-c1e6-42ab-ec9a-b8241ff4e12d"
      },
      "outputs": [
        {
          "output_type": "execute_result",
          "data": {
            "text/plain": [
              "<Axes: xlabel='Pclass', ylabel='count'>"
            ]
          },
          "metadata": {},
          "execution_count": 27
        },
        {
          "output_type": "display_data",
          "data": {
            "text/plain": [
              "<Figure size 640x480 with 1 Axes>"
            ],
            "image/png": "[encoded data removed]"
          },
          "metadata": {}
        }
      ],
      "source": [
        "sns.countplot(x='Pclass', hue='Survived', data=titanic_data)"
      ]
    },
    {
      "cell_type": "markdown",
      "metadata": {
        "id": "MXs7zx-U5jIS"
      },
      "source": [
        "Encode categorical columns/data"
      ]
    },
    {
      "cell_type": "code",
      "execution_count": null,
      "metadata": {
        "colab": {
          "base_uri": "https://localhost:8080/"
        },
        "id": "fO_uFr5L4vCs",
        "outputId": "016caf12-e221-4d7a-c743-f2b0778f794d"
      },
      "outputs": [
        {
          "output_type": "execute_result",
          "data": {
            "text/plain": [
              "Sex\n",
              "male      577\n",
              "female    314\n",
              "Name: count, dtype: int64"
            ]
          },
          "metadata": {},
          "execution_count": 28
        }
      ],
      "source": [
        "titanic_data['Sex'].value_counts()"
      ]
    },
    {
      "cell_type": "code",
      "execution_count": null,
      "metadata": {
        "colab": {
          "base_uri": "https://localhost:8080/"
        },
        "id": "eW9eWpp_5u3d",
        "outputId": "4ef5e676-eee2-4c68-c547-591e932e2ee3"
      },
      "outputs": [
        {
          "output_type": "execute_result",
          "data": {
            "text/plain": [
              "Embarked\n",
              "S    646\n",
              "C    168\n",
              "Q     77\n",
              "Name: count, dtype: int64"
            ]
          },
          "metadata": {},
          "execution_count": 29
        }
      ],
      "source": [
        "titanic_data['Embarked'].value_counts()"
      ]
    },
    {
      "cell_type": "code",
      "execution_count": null,
      "metadata": {
        "id": "ngQsz2R_5zmX"
      },
      "outputs": [],
      "source": [
        "titanic_data.replace({'Sex':{'male':0,'female':1}, 'Embarked':{'S':0,'C':1,'Q':2}}, inplace=True)"
      ]
    },
    {
      "cell_type": "code",
      "execution_count": null,
      "metadata": {
        "id": "AapCACX76PzM"
      },
      "outputs": [],
      "source": [
        "X = titanic_data.drop(columns = ['PassengerId','Name','Ticket','Survived'],axis=1)\n",
        "Y = titanic_data['Survived']"
      ]
    },
    {
      "cell_type": "code",
      "execution_count": null,
      "metadata": {
        "colab": {
          "base_uri": "https://localhost:8080/"
        },
        "id": "0cVxokkP6v9u",
        "outputId": "9925711f-752c-45e2-9401-06e9ced9b9e2"
      },
      "outputs": [
        {
          "output_type": "stream",
          "name": "stdout",
          "text": [
            "     Pclass  Sex        Age  SibSp  Parch     Fare  Embarked\n",
            "0         3    0  22.000000      1      0   7.2500         0\n",
            "1         1    1  38.000000      1      0  71.2833         1\n",
            "2         3    1  26.000000      0      0   7.9250         0\n",
            "3         1    1  35.000000      1      0  53.1000         0\n",
            "4         3    0  35.000000      0      0   8.0500         0\n",
            "..      ...  ...        ...    ...    ...      ...       ...\n",
            "886       2    0  27.000000      0      0  13.0000         0\n",
            "887       1    1  19.000000      0      0  30.0000         0\n",
            "888       3    1  29.699118      1      2  23.4500         0\n",
            "889       1    0  26.000000      0      0  30.0000         1\n",
            "890       3    0  32.000000      0      0   7.7500         2\n",
            "\n",
            "[891 rows x 7 columns]\n"
          ]
        }
      ],
      "source": [
        "print(X)"
      ]
    },
    {
      "cell_type": "code",
      "execution_count": null,
      "metadata": {
        "colab": {
          "base_uri": "https://localhost:8080/"
        },
        "id": "ethaA7mb7Afb",
        "outputId": "7203637b-bca6-4b12-fe01-15932a04c700"
      },
      "outputs": [
        {
          "output_type": "stream",
          "name": "stdout",
          "text": [
            "0      0\n",
            "1      1\n",
            "2      1\n",
            "3      1\n",
            "4      0\n",
            "      ..\n",
            "886    0\n",
            "887    1\n",
            "888    0\n",
            "889    1\n",
            "890    0\n",
            "Name: Survived, Length: 891, dtype: int64\n"
          ]
        }
      ],
      "source": [
        "print(Y)"
      ]
    },
    {
      "cell_type": "markdown",
      "metadata": {
        "id": "l0ztFL1Z7asW"
      },
      "source": [
        "Split the data into test data and train data"
      ]
    },
    {
      "cell_type": "code",
      "execution_count": null,
      "metadata": {
        "id": "XkL0NIWJ7EFf"
      },
      "outputs": [],
      "source": [
        "X_train, X_test, Y_train, Y_test = train_test_split(X,Y, test_size=0.2, random_state=2)"
      ]
    },
    {
      "cell_type": "code",
      "execution_count": null,
      "metadata": {
        "colab": {
          "base_uri": "https://localhost:8080/"
        },
        "id": "udtKE60-7yG4",
        "outputId": "bb88c82a-4d2c-4cba-b465-d2965be455a0"
      },
      "outputs": [
        {
          "output_type": "stream",
          "name": "stdout",
          "text": [
            "(891, 7) (712, 7) (179, 7)\n"
          ]
        }
      ],
      "source": [
        "print(X.shape, X_train.shape,X_test.shape)"
      ]
    },
    {
      "cell_type": "code",
      "source": [
        "X_train = titanic_data.drop(\"Survived\", axis=1)\n",
        "Y_train = titanic_data[\"Survived\"]\n",
        "X_test  = td.drop(\"PassengerId\", axis=1).copy()\n",
        "X_train.shape, Y_train.shape, X_test.shape"
      ],
      "metadata": {
        "id": "AH-6PQhC77JW",
        "colab": {
          "base_uri": "https://localhost:8080/"
        },
        "outputId": "589035cf-dfcc-4914-dffd-4575657dbd68"
      },
      "execution_count": null,
      "outputs": [
        {
          "output_type": "execute_result",
          "data": {
            "text/plain": [
              "((891, 10), (891,), (418, 9))"
            ]
          },
          "metadata": {},
          "execution_count": 57
        }
      ]
    },
    {
      "cell_type": "markdown",
      "source": [
        "Using Decision Tree\n"
      ],
      "metadata": {
        "id": "cxUz4NCVIs9q"
      }
    },
    {
      "source": [
        "print(X_train.head())"
      ],
      "cell_type": "code",
      "metadata": {
        "colab": {
          "base_uri": "https://localhost:8080/"
        },
        "id": "0BRfLL76Kuqb",
        "outputId": "11110249-c274-49d0-b8b8-43a80621a48b"
      },
      "execution_count": null,
      "outputs": [
        {
          "output_type": "stream",
          "name": "stdout",
          "text": [
            "   PassengerId  Pclass                                               Name  \\\n",
            "0            1       3                            Braund, Mr. Owen Harris   \n",
            "1            2       1  Cumings, Mrs. John Bradley (Florence Briggs Th...   \n",
            "2            3       3                             Heikkinen, Miss. Laina   \n",
            "3            4       1       Futrelle, Mrs. Jacques Heath (Lily May Peel)   \n",
            "4            5       3                           Allen, Mr. William Henry   \n",
            "\n",
            "   Sex   Age  SibSp  Parch            Ticket     Fare  Embarked  \n",
            "0    0  22.0      1      0         A/5 21171   7.2500         0  \n",
            "1    1  38.0      1      0          PC 17599  71.2833         1  \n",
            "2    1  26.0      0      0  STON/O2. 3101282   7.9250         0  \n",
            "3    1  35.0      1      0            113803  53.1000         0  \n",
            "4    0  35.0      0      0            373450   8.0500         0  \n"
          ]
        }
      ]
    },
    {
      "source": [
        "X_train = pd.get_dummies(X_train)"
      ],
      "cell_type": "code",
      "metadata": {
        "id": "tECnA4t2KvXn"
      },
      "execution_count": null,
      "outputs": []
    },
    {
      "cell_type": "markdown",
      "metadata": {
        "id": "U6bdoVS78aSP"
      },
      "source": [
        "Logistical regression and model training"
      ]
    },
    {
      "cell_type": "code",
      "execution_count": null,
      "metadata": {
        "id": "81CPOLFG8V-G"
      },
      "outputs": [],
      "source": [
        "model = LogisticRegression()"
      ]
    },
    {
      "cell_type": "code",
      "execution_count": null,
      "metadata": {
        "colab": {
          "base_uri": "https://localhost:8080/",
          "height": 214
        },
        "id": "Qg46MBnB8i2p",
        "outputId": "3f74334d-da3f-4066-e016-c67d22bfda36"
      },
      "outputs": [
        {
          "output_type": "stream",
          "name": "stderr",
          "text": [
            "/usr/local/lib/python3.10/dist-packages/sklearn/linear_model/_logistic.py:458: ConvergenceWarning: lbfgs failed to converge (status=1):\n",
            "STOP: TOTAL NO. of ITERATIONS REACHED LIMIT.\n",
            "\n",
            "Increase the number of iterations (max_iter) or scale the data as shown in:\n",
            "    https://scikit-learn.org/stable/modules/preprocessing.html\n",
            "Please also refer to the documentation for alternative solver options:\n",
            "    https://scikit-learn.org/stable/modules/linear_model.html#logistic-regression\n",
            "  n_iter_i = _check_optimize_result(\n"
          ]
        },
        {
          "output_type": "execute_result",
          "data": {
            "text/plain": [
              "LogisticRegression()"
            ],
            "text/html": [
              "<style>#sk-container-id-1 {color: black;background-color: white;}#sk-container-id-1 pre{padding: 0;}#sk-container-id-1 div.sk-toggleable {background-color: white;}#sk-container-id-1 label.sk-toggleable__label {cursor: pointer;display: block;width: 100%;margin-bottom: 0;padding: 0.3em;box-sizing: border-box;text-align: center;}#sk-container-id-1 label.sk-toggleable__label-arrow:before {content: \"▸\";float: left;margin-right: 0.25em;color: #696969;}#sk-container-id-1 label.sk-toggleable__label-arrow:hover:before {color: black;}#sk-container-id-1 div.sk-estimator:hover label.sk-toggleable__label-arrow:before {color: black;}#sk-container-id-1 div.sk-toggleable__content {max-height: 0;max-width: 0;overflow: hidden;text-align: left;background-color: #f0f8ff;}#sk-container-id-1 div.sk-toggleable__content pre {margin: 0.2em;color: black;border-radius: 0.25em;background-color: #f0f8ff;}#sk-container-id-1 input.sk-toggleable__control:checked~div.sk-toggleable__content {max-height: 200px;max-width: 100%;overflow: auto;}#sk-container-id-1 input.sk-toggleable__control:checked~label.sk-toggleable__label-arrow:before {content: \"▾\";}#sk-container-id-1 div.sk-estimator input.sk-toggleable__control:checked~label.sk-toggleable__label {background-color: #d4ebff;}#sk-container-id-1 div.sk-label input.sk-toggleable__control:checked~label.sk-toggleable__label {background-color: #d4ebff;}#sk-container-id-1 input.sk-hidden--visually {border: 0;clip: rect(1px 1px 1px 1px);clip: rect(1px, 1px, 1px, 1px);height: 1px;margin: -1px;overflow: hidden;padding: 0;position: absolute;width: 1px;}#sk-container-id-1 div.sk-estimator {font-family: monospace;background-color: #f0f8ff;border: 1px dotted black;border-radius: 0.25em;box-sizing: border-box;margin-bottom: 0.5em;}#sk-container-id-1 div.sk-estimator:hover {background-color: #d4ebff;}#sk-container-id-1 div.sk-parallel-item::after {content: \"\";width: 100%;border-bottom: 1px solid gray;flex-grow: 1;}#sk-container-id-1 div.sk-label:hover label.sk-toggleable__label {background-color: #d4ebff;}#sk-container-id-1 div.sk-serial::before {content: \"\";position: absolute;border-left: 1px solid gray;box-sizing: border-box;top: 0;bottom: 0;left: 50%;z-index: 0;}#sk-container-id-1 div.sk-serial {display: flex;flex-direction: column;align-items: center;background-color: white;padding-right: 0.2em;padding-left: 0.2em;position: relative;}#sk-container-id-1 div.sk-item {position: relative;z-index: 1;}#sk-container-id-1 div.sk-parallel {display: flex;align-items: stretch;justify-content: center;background-color: white;position: relative;}#sk-container-id-1 div.sk-item::before, #sk-container-id-1 div.sk-parallel-item::before {content: \"\";position: absolute;border-left: 1px solid gray;box-sizing: border-box;top: 0;bottom: 0;left: 50%;z-index: -1;}#sk-container-id-1 div.sk-parallel-item {display: flex;flex-direction: column;z-index: 1;position: relative;background-color: white;}#sk-container-id-1 div.sk-parallel-item:first-child::after {align-self: flex-end;width: 50%;}#sk-container-id-1 div.sk-parallel-item:last-child::after {align-self: flex-start;width: 50%;}#sk-container-id-1 div.sk-parallel-item:only-child::after {width: 0;}#sk-container-id-1 div.sk-dashed-wrapped {border: 1px dashed gray;margin: 0 0.4em 0.5em 0.4em;box-sizing: border-box;padding-bottom: 0.4em;background-color: white;}#sk-container-id-1 div.sk-label label {font-family: monospace;font-weight: bold;display: inline-block;line-height: 1.2em;}#sk-container-id-1 div.sk-label-container {text-align: center;}#sk-container-id-1 div.sk-container {/* jupyter's `normalize.less` sets `[hidden] { display: none; }` but bootstrap.min.css set `[hidden] { display: none !important; }` so we also need the `!important` here to be able to override the default hidden behavior on the sphinx rendered scikit-learn.org. See: https://github.com/scikit-learn/scikit-learn/issues/21755 */display: inline-block !important;position: relative;}#sk-container-id-1 div.sk-text-repr-fallback {display: none;}</style><div id=\"sk-container-id-1\" class=\"sk-top-container\"><div class=\"sk-text-repr-fallback\"><pre>LogisticRegression()</pre><b>In a Jupyter environment, please rerun this cell to show the HTML representation or trust the notebook. <br />On GitHub, the HTML representation is unable to render, please try loading this page with nbviewer.org.</b></div><div class=\"sk-container\" hidden><div class=\"sk-item\"><div class=\"sk-estimator sk-toggleable\"><input class=\"sk-toggleable__control sk-hidden--visually\" id=\"sk-estimator-id-1\" type=\"checkbox\" checked><label for=\"sk-estimator-id-1\" class=\"sk-toggleable__label sk-toggleable__label-arrow\">LogisticRegression</label><div class=\"sk-toggleable__content\"><pre>LogisticRegression()</pre></div></div></div></div></div>"
            ]
          },
          "metadata": {},
          "execution_count": 37
        }
      ],
      "source": [
        "#use the train data on logisticregression model\n",
        "model.fit(X_train, Y_train)"
      ]
    },
    {
      "cell_type": "markdown",
      "metadata": {
        "id": "ulvRd7Qq90dV"
      },
      "source": [
        "evaluating and testing the model"
      ]
    },
    {
      "cell_type": "code",
      "execution_count": null,
      "metadata": {
        "id": "S7-IJjMd8us2"
      },
      "outputs": [],
      "source": [
        "X_train_prediction = model.predict(X_train)"
      ]
    },
    {
      "cell_type": "code",
      "execution_count": null,
      "metadata": {
        "colab": {
          "base_uri": "https://localhost:8080/"
        },
        "id": "3hVWzTdm99Jt",
        "outputId": "18dae1fb-35ed-45a3-cd3b-364312f99921"
      },
      "outputs": [
        {
          "output_type": "stream",
          "name": "stdout",
          "text": [
            "[0 1 0 0 0 0 0 1 0 0 0 1 0 0 1 0 1 0 0 0 0 0 1 0 0 1 0 0 1 0 1 1 0 0 1 0 1\n",
            " 0 0 0 0 0 0 1 1 0 0 1 0 1 0 1 0 0 0 0 0 0 1 0 1 0 0 1 1 0 0 1 1 0 1 0 0 1\n",
            " 0 0 0 0 0 0 1 0 0 0 1 0 0 0 1 0 1 0 0 1 0 0 0 1 1 1 0 1 0 0 0 0 0 1 0 0 0\n",
            " 1 1 0 0 1 0 0 1 0 0 1 0 0 1 0 1 0 1 0 1 0 1 1 1 1 1 1 0 0 1 1 1 0 0 1 0 0\n",
            " 0 0 0 0 1 0 1 0 0 0 0 0 0 0 0 1 0 0 0 0 0 0 0 0 0 0 1 1 0 0 1 0 1 0 1 1 1\n",
            " 0 0 0 1 0 0 0 1 0 0 1 0 0 0 1 1 0 1 0 0 0 0 0 1 1 0 1 1 1 1 0 0 0 0 0 0 0\n",
            " 0 1 0 0 1 1 1 0 0 1 0 1 1 1 0 0 1 0 0 0 0 1 0 0 0 1 0 0 0 1 0 1 0 1 0 0 0\n",
            " 0 0 0 0 0 0 1 0 1 0 0 1 0 0 1 0 1 0 1 1 0 0 0 0 1 0 1 0 0 1 0 0 0 1 0 0 0\n",
            " 0 1 1 0 0 0 0 0 0 1 0 1 0 0 0 0 0 1 1 1 0 0 0 1 0 1 0 0 0 0 0 0 1 1 0 1 1\n",
            " 0 1 1 1 0 0 0 0 0 0 0 0 0 1 0 0 1 1 1 0 1 0 0 0 0 1 1 0 0 0 1 0 1 1 1 0 0\n",
            " 0 0 1 0 0 0 1 1 0 0 1 0 0 0 0 1 0 0 0 0 0 1 0 0 0 0 1 0 1 1 1 0 1 1 0 0 0\n",
            " 0 1 0 1 0 0 1 1 0 0 0 0 1 0 0 0 0 1 1 0 1 0 1 0 0 0 0 0 1 0 0 0 0 1 1 0 0\n",
            " 1 0 1 0 0 1 0 0 0 0 0 0 0 0 1 0 0 1 1 0 0 0 1 1 0 1 0 0 1 0 0 0 1 1 0 1 0\n",
            " 0 0 0 0 1 0 0 1 0 1 1 0 0 1 0 0 1 0 0 0 1 0 1 1 0 0 1 1 0 1 0 1 1 1 0 1 0\n",
            " 0 1 0 0 1 0 0 1 0 0 0 0 1 1 0 0 1 0 1 0 0 0 0 0 0 1 1 1 0 0 1 1 0 0 0 0 0\n",
            " 0 0 0 0 0 0 0 0 0 0 0 0 1 0 0 0 1 1 0 0 0 0 0 0 0 0 0 0 0 0 1 0 1 0 0 0 0\n",
            " 0 0 1 0 0 0 0 0 1 0 1 0 1 0 0 0 1 0 1 1 1 0 0 0 1 0 1 0 0 0 1 1 1 0 0 1 1\n",
            " 0 0 0 1 0 1 0 0 0 0 0 1 1 0 1 1 1 0 0 0 1 0 0 0 0 1 0 0 0 1 0 0 1 0 0 0 0\n",
            " 1 0 0 1 0 1 0 0 0 1 1 1 1 1 0 0 1 1 0 1 1 1 1 0 0 0 1 1 0 0 1 0 0 0 0 0 0\n",
            " 0 0 0 1 1 0 0 1 0]\n"
          ]
        }
      ],
      "source": [
        "print(X_train_prediction)"
      ]
    },
    {
      "cell_type": "code",
      "execution_count": null,
      "metadata": {
        "colab": {
          "base_uri": "https://localhost:8080/"
        },
        "id": "d6kLOsHC-An0",
        "outputId": "a1414bc4-b68a-424d-fafb-a2b15bb9827c"
      },
      "outputs": [
        {
          "output_type": "stream",
          "name": "stdout",
          "text": [
            "Accuracy score of training data :  0.8075842696629213\n"
          ]
        }
      ],
      "source": [
        "training_data_accuracy = accuracy_score(Y_train, X_train_prediction)\n",
        "print('Accuracy score of training data : ', training_data_accuracy)"
      ]
    },
    {
      "cell_type": "code",
      "execution_count": null,
      "metadata": {
        "id": "cg_JoQYq-eCk"
      },
      "outputs": [],
      "source": [
        "#check accuracy of test data\n",
        "X_test_prediction = model.predict(X_test)"
      ]
    },
    {
      "cell_type": "code",
      "execution_count": null,
      "metadata": {
        "colab": {
          "base_uri": "https://localhost:8080/"
        },
        "id": "bO8Qntjb-qP_",
        "outputId": "7462f081-5dd7-4556-93bf-2b9740868796"
      },
      "outputs": [
        {
          "output_type": "stream",
          "name": "stdout",
          "text": [
            "[0 0 1 0 0 0 0 0 0 0 0 1 1 0 0 1 0 0 1 0 1 1 0 1 0 1 1 0 0 0 0 0 0 0 0 1 1\n",
            " 0 0 0 0 0 1 0 0 1 1 0 0 1 0 0 0 0 0 0 1 0 0 0 1 0 0 0 1 0 1 0 0 0 1 0 1 0\n",
            " 1 0 0 0 1 0 1 0 0 0 1 1 0 0 1 0 0 0 0 0 0 1 0 1 0 0 1 0 1 1 0 1 1 0 0 0 0\n",
            " 0 0 0 1 1 0 1 0 0 1 0 0 0 0 0 0 1 0 0 0 0 1 1 0 0 0 0 0 0 1 1 1 1 0 1 0 0\n",
            " 0 1 0 0 0 0 1 0 0 1 1 0 1 0 0 0 1 1 0 0 1 0 0 1 1 1 0 0 0 0 0]\n"
          ]
        }
      ],
      "source": [
        "print(X_test_prediction)"
      ]
    },
    {
      "cell_type": "code",
      "execution_count": null,
      "metadata": {
        "colab": {
          "base_uri": "https://localhost:8080/"
        },
        "id": "f-lNkuU4-uKI",
        "outputId": "8a17ecb1-60a4-4a54-f46a-2d63274bb762"
      },
      "outputs": [
        {
          "output_type": "stream",
          "name": "stdout",
          "text": [
            "Accuracy score of test data: 0.7821229050279329\n"
          ]
        }
      ],
      "source": [
        "test_data_accuracy = accuracy_score(Y_test, X_test_prediction)\n",
        "print('Accuracy score of test data:', test_data_accuracy)"
      ]
    },
    {
      "cell_type": "code",
      "execution_count": null,
      "metadata": {
        "colab": {
          "base_uri": "https://localhost:8080/"
        },
        "id": "xIqsIh3C_J65",
        "outputId": "0c342316-9144-4691-f40f-c8d686f962cc"
      },
      "outputs": [
        {
          "output_type": "execute_result",
          "data": {
            "text/plain": [
              "['logistic_regression_model.pkl']"
            ]
          },
          "metadata": {},
          "execution_count": 44
        }
      ],
      "source": [
        "#ends...but\n",
        "import joblib\n",
        "joblib.dump(model, 'logistic_regression_model.pkl')"
      ]
    },
    {
      "cell_type": "code",
      "execution_count": null,
      "metadata": {
        "id": "scwNdOgfDHiN"
      },
      "outputs": [],
      "source": []
    }
  ],
  "metadata": {
    "colab": {
      "provenance": []
    },
    "kernelspec": {
      "display_name": "Python 3",
      "name": "python3"
    },
    "language_info": {
      "name": "python"
    }
  },
  "nbformat": 4,
  "nbformat_minor": 0
}